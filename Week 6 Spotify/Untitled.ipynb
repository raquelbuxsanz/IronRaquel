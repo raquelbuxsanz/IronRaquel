{
 "cells": [
  {
   "cell_type": "code",
   "execution_count": null,
   "id": "199e559c",
   "metadata": {},
   "outputs": [],
   "source": [
    "client_id=\"5c473c90dc924221bc335759e24ef9a7\"\n",
    "client_secret=\"25639fd69e584df4a0dae33d60357719\" "
   ]
  }
 ],
 "metadata": {
  "kernelspec": {
   "display_name": "Python 3 (ipykernel)",
   "language": "python",
   "name": "python3"
  },
  "language_info": {
   "codemirror_mode": {
    "name": "ipython",
    "version": 3
   },
   "file_extension": ".py",
   "mimetype": "text/x-python",
   "name": "python",
   "nbconvert_exporter": "python",
   "pygments_lexer": "ipython3",
   "version": "3.9.7"
  }
 },
 "nbformat": 4,
 "nbformat_minor": 5
}
