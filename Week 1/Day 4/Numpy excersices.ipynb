{
 "cells": [
  {
   "cell_type": "code",
   "execution_count": 5,
   "id": "5325af68",
   "metadata": {},
   "outputs": [],
   "source": [
    "#Import the numpy package under the name `np` \n",
    "import numpy as np"
   ]
  },
  {
   "cell_type": "code",
   "execution_count": 6,
   "id": "469f4402",
   "metadata": {},
   "outputs": [
    {
     "data": {
      "text/plain": [
       "array([0., 0., 0., 0., 0., 0., 0., 0., 0., 0.])"
      ]
     },
     "execution_count": 6,
     "metadata": {},
     "output_type": "execute_result"
    }
   ],
   "source": [
    "#Create a null vector of size 10\n",
    "a = np.zeros(10)\n",
    "a"
   ]
  },
  {
   "cell_type": "code",
   "execution_count": 7,
   "id": "1d4f0775",
   "metadata": {},
   "outputs": [
    {
     "data": {
      "text/plain": [
       "array([0., 0., 0., 0., 1., 0., 0., 0., 0., 0.])"
      ]
     },
     "execution_count": 7,
     "metadata": {},
     "output_type": "execute_result"
    }
   ],
   "source": [
    "#Create a null vector of size 10 but the fifth value which is 1 \n",
    "b = np.zeros(10)\n",
    "b[4]=1\n",
    "b"
   ]
  },
  {
   "cell_type": "code",
   "execution_count": 8,
   "id": "6540c1db",
   "metadata": {},
   "outputs": [
    {
     "data": {
      "text/plain": [
       "array([10, 11, 12, 13, 14, 15, 16, 17, 18, 19, 20, 21, 22, 23, 24, 25, 26,\n",
       "       27, 28, 29, 30, 31, 32, 33, 34, 35, 36, 37, 38, 39, 40, 41, 42, 43,\n",
       "       44, 45, 46, 47, 48, 49])"
      ]
     },
     "execution_count": 8,
     "metadata": {},
     "output_type": "execute_result"
    }
   ],
   "source": [
    "#Create a vector with values ranging from 10 to 49 \n",
    "c = np.arange(10,50)\n",
    "c"
   ]
  },
  {
   "cell_type": "code",
   "execution_count": 9,
   "id": "005b741e",
   "metadata": {},
   "outputs": [
    {
     "data": {
      "text/plain": [
       "array([[0, 1, 2],\n",
       "       [3, 4, 5],\n",
       "       [6, 7, 8]])"
      ]
     },
     "execution_count": 9,
     "metadata": {},
     "output_type": "execute_result"
    }
   ],
   "source": [
    "#Create a 3x3 matrix with values ranging from 0 to 8\n",
    "d = np.arange(0, 9).reshape(3,3)\n",
    "d"
   ]
  },
  {
   "cell_type": "code",
   "execution_count": 10,
   "id": "7969271d",
   "metadata": {},
   "outputs": [
    {
     "data": {
      "text/plain": [
       "(array([0, 1, 4]),)"
      ]
     },
     "execution_count": 10,
     "metadata": {},
     "output_type": "execute_result"
    }
   ],
   "source": [
    "#Find indices of non-zero elements from [1,2,0,0,4,0]\n",
    "e = np.array([1,2,0,0,4,0])\n",
    "np.nonzero(e)\n",
    "#e[e != 0]"
   ]
  },
  {
   "cell_type": "code",
   "execution_count": 11,
   "id": "b72bd71c",
   "metadata": {},
   "outputs": [
    {
     "data": {
      "text/plain": [
       "array([[1., 0., 0.],\n",
       "       [0., 1., 0.],\n",
       "       [0., 0., 1.]])"
      ]
     },
     "execution_count": 11,
     "metadata": {},
     "output_type": "execute_result"
    }
   ],
   "source": [
    "#Create a 3x3 identity matrix\n",
    "np.eye(3)"
   ]
  },
  {
   "cell_type": "code",
   "execution_count": 12,
   "id": "b07a7f6f",
   "metadata": {},
   "outputs": [
    {
     "data": {
      "text/plain": [
       "array([[[0.66401767, 0.56326664, 0.53696638],\n",
       "        [0.38315284, 0.17986806, 0.11234031],\n",
       "        [0.68909346, 0.21645088, 0.11413687]],\n",
       "\n",
       "       [[0.40171151, 0.56196671, 0.0979667 ],\n",
       "        [0.44113669, 0.00381044, 0.0306991 ],\n",
       "        [0.69037814, 0.46027063, 0.85071754]],\n",
       "\n",
       "       [[0.68786975, 0.34728137, 0.50936984],\n",
       "        [0.19217789, 0.40628113, 0.36651431],\n",
       "        [0.12871491, 0.95183213, 0.72247967]]])"
      ]
     },
     "execution_count": 12,
     "metadata": {},
     "output_type": "execute_result"
    }
   ],
   "source": [
    "#Create a 3x3x3 array with random values\n",
    "f = np.random.random((3,3,3))\n",
    "f"
   ]
  },
  {
   "cell_type": "code",
   "execution_count": 13,
   "id": "b0519481",
   "metadata": {},
   "outputs": [
    {
     "name": "stdout",
     "output_type": "stream",
     "text": [
      "[[0.63028973 0.29583816 0.25113078 0.08002885 0.07232743 0.33358555\n",
      "  0.4059295  0.66470013 0.08370456 0.04725013]\n",
      " [0.35387702 0.505861   0.67455904 0.31315062 0.85637415 0.95802819\n",
      "  0.48565015 0.16430856 0.92504483 0.00927057]\n",
      " [0.40828833 0.31095486 0.16455878 0.20852918 0.93929694 0.3839145\n",
      "  0.62903823 0.97540411 0.14811548 0.04504074]\n",
      " [0.31789561 0.44790655 0.17290299 0.90259024 0.49878966 0.53422542\n",
      "  0.98538211 0.54239783 0.52693431 0.60998153]\n",
      " [0.67452163 0.64307999 0.51865751 0.81793034 0.13195588 0.36645589\n",
      "  0.86218144 0.00803981 0.33123596 0.74470037]\n",
      " [0.80806684 0.83911735 0.20285356 0.93221869 0.139806   0.17590963\n",
      "  0.20684135 0.56433331 0.10219133 0.15673985]\n",
      " [0.94797644 0.70076941 0.29654911 0.94142058 0.74689765 0.65067449\n",
      "  0.15380888 0.80338115 0.31093323 0.67655698]\n",
      " [0.35297405 0.78095941 0.33946112 0.62991628 0.12909547 0.39205253\n",
      "  0.37524855 0.54271316 0.89789635 0.49399804]\n",
      " [0.16256858 0.48663255 0.04863399 0.15995412 0.61921176 0.59999136\n",
      "  0.09850424 0.05938423 0.69838028 0.26851879]\n",
      " [0.29206939 0.26905209 0.62625439 0.86344565 0.40173889 0.48479307\n",
      "  0.79565796 0.59824301 0.80868461 0.16718612]]\n",
      "The minimum value is 0.008039812709805028 The maximum value is 0.9853821125694223\n"
     ]
    }
   ],
   "source": [
    "#Create a 10x10 array with random values and find the minimum and maximum values\n",
    "g = np.random.random((10,10))\n",
    "gmin, gmax = g.min(), g.max()\n",
    "print(g)\n",
    "print(\"The minimum value is\", gmin, \"The maximum value is\", gmax)"
   ]
  },
  {
   "cell_type": "code",
   "execution_count": 14,
   "id": "9e9840a7",
   "metadata": {},
   "outputs": [
    {
     "data": {
      "text/plain": [
       "array([0.22613444, 0.01809818, 0.38842176, 0.05312684, 0.5026804 ,\n",
       "       0.93715067, 0.14939537, 0.22931434, 0.59338588, 0.68786081,\n",
       "       0.9758779 , 0.83867113, 0.46778421, 0.49564896, 0.73442589,\n",
       "       0.11423   , 0.29431389, 0.58248234, 0.07770072, 0.22470048,\n",
       "       0.15218202, 0.83343222, 0.80047168, 0.29013173, 0.79397143,\n",
       "       0.40539521, 0.01358536, 0.35056777, 0.13194876, 0.92754255])"
      ]
     },
     "execution_count": 14,
     "metadata": {},
     "output_type": "execute_result"
    }
   ],
   "source": [
    "#Create a random vector of size 30 and find the mean value\n",
    "h = np.random.random(30)\n",
    "h"
   ]
  },
  {
   "cell_type": "code",
   "execution_count": 15,
   "id": "10bc569e",
   "metadata": {},
   "outputs": [
    {
     "data": {
      "text/plain": [
       "0.44302109800219236"
      ]
     },
     "execution_count": 15,
     "metadata": {},
     "output_type": "execute_result"
    }
   ],
   "source": [
    "np.mean(h)"
   ]
  },
  {
   "cell_type": "code",
   "execution_count": 18,
   "id": "ce51dc38",
   "metadata": {},
   "outputs": [
    {
     "data": {
      "text/plain": [
       "array([[0, 0, 0, 0, 0],\n",
       "       [1, 0, 0, 0, 0],\n",
       "       [0, 2, 0, 0, 0],\n",
       "       [0, 0, 3, 0, 0],\n",
       "       [0, 0, 0, 4, 0]])"
      ]
     },
     "execution_count": 18,
     "metadata": {},
     "output_type": "execute_result"
    }
   ],
   "source": [
    "#Create a 5x5 matrix with values 1,2,3,4 just below the diagonal\n",
    "np.diagflat([1,2,3,4],-1)"
   ]
  },
  {
   "cell_type": "code",
   "execution_count": 20,
   "id": "0306d37c",
   "metadata": {},
   "outputs": [
    {
     "name": "stdout",
     "output_type": "stream",
     "text": [
      "Original Array:\n",
      "[[0.29789821 0.30886228 0.41047049 0.93111192 0.01470279]\n",
      " [0.25238951 0.68469783 0.70980494 0.57475844 0.93552442]\n",
      " [0.21199825 0.12592029 0.90946892 0.34307636 0.38781965]\n",
      " [0.76131303 0.55034129 0.62270412 0.05853535 0.11614361]\n",
      " [0.0934581  0.8607986  0.42064526 0.34599417 0.27647723]]\n"
     ]
    }
   ],
   "source": [
    "#Normalize a 5x5 random matrix\n",
    "\n",
    "h= np.random.random((5,5))\n",
    "print(\"Original Array:\")\n",
    "print(h)"
   ]
  },
  {
   "cell_type": "code",
   "execution_count": 21,
   "id": "727f1906",
   "metadata": {},
   "outputs": [
    {
     "name": "stdout",
     "output_type": "stream",
     "text": [
      "After normalization:\n",
      "[[0.30754644 0.31945328 0.42979843 0.99520808 0.        ]\n",
      " [0.2581246  0.72760567 0.75487165 0.60821296 1.        ]\n",
      " [0.21426023 0.12078072 0.97170408 0.35660931 0.40519993]\n",
      " [0.81080876 0.58169626 0.66028133 0.04760157 0.11016337]\n",
      " [0.08552722 0.91884876 0.44084811 0.35977801 0.28428355]]\n"
     ]
    }
   ],
   "source": [
    "hmax, hmin = h.max(), h.min()\n",
    "h = (h - hmin)/(hmax - hmin)\n",
    "print(\"After normalization:\")\n",
    "print(h)"
   ]
  },
  {
   "cell_type": "code",
   "execution_count": 22,
   "id": "fc9dea4e",
   "metadata": {},
   "outputs": [
    {
     "name": "stdout",
     "output_type": "stream",
     "text": [
      "Array1:  [ 0 10 20 40 60]\n",
      "Array2:  [10, 30, 40]\n",
      "Common values between two arrays:\n",
      "[10 40]\n"
     ]
    }
   ],
   "source": [
    "#How to find common values between two arrays?\n",
    "array1 = np.array([0, 10, 20, 40, 60])\n",
    "print(\"Array1: \",array1)\n",
    "array2 = [10, 30, 40]\n",
    "print(\"Array2: \",array2)\n",
    "print(\"Common values between two arrays:\")\n",
    "print(np.intersect1d(array1, array2))"
   ]
  },
  {
   "cell_type": "code",
   "execution_count": 23,
   "id": "47684e5e",
   "metadata": {},
   "outputs": [
    {
     "data": {
      "text/plain": [
       "array([0.72070585, 0.9534013 , 0.16238893, 0.24823014, 0.62204528,\n",
       "       0.76127873, 0.53441618, 0.20836553, 0.74184685, 0.08003975])"
      ]
     },
     "execution_count": 23,
     "metadata": {},
     "output_type": "execute_result"
    }
   ],
   "source": [
    "#Create a random vector of size 10 and sort it\n",
    "z= np.random.random(10)\n",
    "z"
   ]
  },
  {
   "cell_type": "code",
   "execution_count": 24,
   "id": "1185f490",
   "metadata": {},
   "outputs": [
    {
     "ename": "NameError",
     "evalue": "name 'sort' is not defined",
     "output_type": "error",
     "traceback": [
      "\u001b[0;31m---------------------------------------------------------------------------\u001b[0m",
      "\u001b[0;31mNameError\u001b[0m                                 Traceback (most recent call last)",
      "\u001b[0;32m/var/folders/qg/crcztcy17rbfrp2nsq_7_5lw0000gn/T/ipykernel_8389/1129963791.py\u001b[0m in \u001b[0;36m<module>\u001b[0;34m\u001b[0m\n\u001b[0;32m----> 1\u001b[0;31m \u001b[0msort\u001b[0m\u001b[0;34m(\u001b[0m\u001b[0mz\u001b[0m\u001b[0;34m)\u001b[0m\u001b[0;34m\u001b[0m\u001b[0;34m\u001b[0m\u001b[0m\n\u001b[0m",
      "\u001b[0;31mNameError\u001b[0m: name 'sort' is not defined"
     ]
    }
   ],
   "source": [
    "sort(z)"
   ]
  },
  {
   "cell_type": "code",
   "execution_count": null,
   "id": "6faa6abc",
   "metadata": {},
   "outputs": [],
   "source": []
  }
 ],
 "metadata": {
  "kernelspec": {
   "display_name": "Python 3 (ipykernel)",
   "language": "python",
   "name": "python3"
  },
  "language_info": {
   "codemirror_mode": {
    "name": "ipython",
    "version": 3
   },
   "file_extension": ".py",
   "mimetype": "text/x-python",
   "name": "python",
   "nbconvert_exporter": "python",
   "pygments_lexer": "ipython3",
   "version": "3.9.7"
  }
 },
 "nbformat": 4,
 "nbformat_minor": 5
}
